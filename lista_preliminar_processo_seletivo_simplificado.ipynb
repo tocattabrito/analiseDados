{
  "nbformat": 4,
  "nbformat_minor": 0,
  "metadata": {
    "colab": {
      "provenance": [],
      "collapsed_sections": [
        "7wdOfGCBRwde"
      ],
      "authorship_tag": "ABX9TyOu1HXIfOgjFTrBETbyvKc4",
      "include_colab_link": true
    },
    "kernelspec": {
      "name": "python3",
      "display_name": "Python 3"
    },
    "language_info": {
      "name": "python"
    }
  },
  "cells": [
    {
      "cell_type": "markdown",
      "metadata": {
        "id": "view-in-github",
        "colab_type": "text"
      },
      "source": [
        "<a href=\"https://colab.research.google.com/github/tocattabrito/analiseDados/blob/main/lista_preliminar_processo_seletivo_simplificado.ipynb\" target=\"_parent\"><img src=\"https://colab.research.google.com/assets/colab-badge.svg\" alt=\"Open In Colab\"/></a>"
      ]
    },
    {
      "cell_type": "markdown",
      "source": [
        "Esse é uma analise exploratória do RESULTADO PRELIMINAR do PROCESSO SELETIVO SIMPLIFICADO DA SECRETARIA DE EDUCAÇÃO DE\n",
        "PERNAMBUCO - 2025"
      ],
      "metadata": {
        "id": "hvYHANy0cJ6v"
      }
    },
    {
      "cell_type": "markdown",
      "source": [
        "#1. PREPARANDO O AMBIENTE NO GOOGLE COLAB\n"
      ],
      "metadata": {
        "id": "jpCrn-0LepLq"
      }
    },
    {
      "cell_type": "code",
      "source": [
        "!pip install pdfplumber\n",
        "import pdfplumber\n",
        "import pandas as pd"
      ],
      "metadata": {
        "id": "zILTy71rciBf",
        "colab": {
          "base_uri": "https://localhost:8080/"
        },
        "collapsed": true,
        "outputId": "4814affd-ed23-42f2-ab0d-c87aa831f3bc"
      },
      "execution_count": null,
      "outputs": [
        {
          "output_type": "stream",
          "name": "stdout",
          "text": [
            "Collecting pdfplumber\n",
            "  Downloading pdfplumber-0.11.7-py3-none-any.whl.metadata (42 kB)\n",
            "\u001b[?25l     \u001b[90m━━━━━━━━━━━━━━━━━━━━━━━━━━━━━━━━━━━━━━━━\u001b[0m \u001b[32m0.0/42.8 kB\u001b[0m \u001b[31m?\u001b[0m eta \u001b[36m-:--:--\u001b[0m\r\u001b[2K     \u001b[90m━━━━━━━━━━━━━━━━━━━━━━━━━━━━━━━━━━━━━━━━\u001b[0m \u001b[32m42.8/42.8 kB\u001b[0m \u001b[31m1.6 MB/s\u001b[0m eta \u001b[36m0:00:00\u001b[0m\n",
            "\u001b[?25hCollecting pdfminer.six==20250506 (from pdfplumber)\n",
            "  Downloading pdfminer_six-20250506-py3-none-any.whl.metadata (4.2 kB)\n",
            "Requirement already satisfied: Pillow>=9.1 in /usr/local/lib/python3.11/dist-packages (from pdfplumber) (11.2.1)\n",
            "Collecting pypdfium2>=4.18.0 (from pdfplumber)\n",
            "  Downloading pypdfium2-4.30.1-py3-none-manylinux_2_17_x86_64.manylinux2014_x86_64.whl.metadata (48 kB)\n",
            "\u001b[2K     \u001b[90m━━━━━━━━━━━━━━━━━━━━━━━━━━━━━━━━━━━━━━━━\u001b[0m \u001b[32m48.2/48.2 kB\u001b[0m \u001b[31m2.8 MB/s\u001b[0m eta \u001b[36m0:00:00\u001b[0m\n",
            "\u001b[?25hRequirement already satisfied: charset-normalizer>=2.0.0 in /usr/local/lib/python3.11/dist-packages (from pdfminer.six==20250506->pdfplumber) (3.4.2)\n",
            "Requirement already satisfied: cryptography>=36.0.0 in /usr/local/lib/python3.11/dist-packages (from pdfminer.six==20250506->pdfplumber) (43.0.3)\n",
            "Requirement already satisfied: cffi>=1.12 in /usr/local/lib/python3.11/dist-packages (from cryptography>=36.0.0->pdfminer.six==20250506->pdfplumber) (1.17.1)\n",
            "Requirement already satisfied: pycparser in /usr/local/lib/python3.11/dist-packages (from cffi>=1.12->cryptography>=36.0.0->pdfminer.six==20250506->pdfplumber) (2.22)\n",
            "Downloading pdfplumber-0.11.7-py3-none-any.whl (60 kB)\n",
            "\u001b[2K   \u001b[90m━━━━━━━━━━━━━━━━━━━━━━━━━━━━━━━━━━━━━━━━\u001b[0m \u001b[32m60.0/60.0 kB\u001b[0m \u001b[31m4.2 MB/s\u001b[0m eta \u001b[36m0:00:00\u001b[0m\n",
            "\u001b[?25hDownloading pdfminer_six-20250506-py3-none-any.whl (5.6 MB)\n",
            "\u001b[2K   \u001b[90m━━━━━━━━━━━━━━━━━━━━━━━━━━━━━━━━━━━━━━━━\u001b[0m \u001b[32m5.6/5.6 MB\u001b[0m \u001b[31m60.9 MB/s\u001b[0m eta \u001b[36m0:00:00\u001b[0m\n",
            "\u001b[?25hDownloading pypdfium2-4.30.1-py3-none-manylinux_2_17_x86_64.manylinux2014_x86_64.whl (2.9 MB)\n",
            "\u001b[2K   \u001b[90m━━━━━━━━━━━━━━━━━━━━━━━━━━━━━━━━━━━━━━━━\u001b[0m \u001b[32m2.9/2.9 MB\u001b[0m \u001b[31m72.4 MB/s\u001b[0m eta \u001b[36m0:00:00\u001b[0m\n",
            "\u001b[?25hInstalling collected packages: pypdfium2, pdfminer.six, pdfplumber\n",
            "Successfully installed pdfminer.six-20250506 pdfplumber-0.11.7 pypdfium2-4.30.1\n"
          ]
        }
      ]
    },
    {
      "cell_type": "markdown",
      "source": [
        "#2. FAZER UPLOAD DO ARQUIVO PDF\n"
      ],
      "metadata": {
        "id": "HcstPdQZe2Tz"
      }
    },
    {
      "cell_type": "code",
      "source": [
        "from google.colab import files\n",
        "\n",
        "uploaded = files.upload() # rode o código para carregar o arquivo em pdf"
      ],
      "metadata": {
        "colab": {
          "base_uri": "https://localhost:8080/",
          "height": 73
        },
        "id": "PgNNazWDe8CV",
        "outputId": "df436625-017e-4149-ac0b-0851930fae75"
      },
      "execution_count": null,
      "outputs": [
        {
          "output_type": "display_data",
          "data": {
            "text/plain": [
              "<IPython.core.display.HTML object>"
            ],
            "text/html": [
              "\n",
              "     <input type=\"file\" id=\"files-71b07d9b-0f42-44c6-bce0-20000f494c88\" name=\"files[]\" multiple disabled\n",
              "        style=\"border:none\" />\n",
              "     <output id=\"result-71b07d9b-0f42-44c6-bce0-20000f494c88\">\n",
              "      Upload widget is only available when the cell has been executed in the\n",
              "      current browser session. Please rerun this cell to enable.\n",
              "      </output>\n",
              "      <script>// Copyright 2017 Google LLC\n",
              "//\n",
              "// Licensed under the Apache License, Version 2.0 (the \"License\");\n",
              "// you may not use this file except in compliance with the License.\n",
              "// You may obtain a copy of the License at\n",
              "//\n",
              "//      http://www.apache.org/licenses/LICENSE-2.0\n",
              "//\n",
              "// Unless required by applicable law or agreed to in writing, software\n",
              "// distributed under the License is distributed on an \"AS IS\" BASIS,\n",
              "// WITHOUT WARRANTIES OR CONDITIONS OF ANY KIND, either express or implied.\n",
              "// See the License for the specific language governing permissions and\n",
              "// limitations under the License.\n",
              "\n",
              "/**\n",
              " * @fileoverview Helpers for google.colab Python module.\n",
              " */\n",
              "(function(scope) {\n",
              "function span(text, styleAttributes = {}) {\n",
              "  const element = document.createElement('span');\n",
              "  element.textContent = text;\n",
              "  for (const key of Object.keys(styleAttributes)) {\n",
              "    element.style[key] = styleAttributes[key];\n",
              "  }\n",
              "  return element;\n",
              "}\n",
              "\n",
              "// Max number of bytes which will be uploaded at a time.\n",
              "const MAX_PAYLOAD_SIZE = 100 * 1024;\n",
              "\n",
              "function _uploadFiles(inputId, outputId) {\n",
              "  const steps = uploadFilesStep(inputId, outputId);\n",
              "  const outputElement = document.getElementById(outputId);\n",
              "  // Cache steps on the outputElement to make it available for the next call\n",
              "  // to uploadFilesContinue from Python.\n",
              "  outputElement.steps = steps;\n",
              "\n",
              "  return _uploadFilesContinue(outputId);\n",
              "}\n",
              "\n",
              "// This is roughly an async generator (not supported in the browser yet),\n",
              "// where there are multiple asynchronous steps and the Python side is going\n",
              "// to poll for completion of each step.\n",
              "// This uses a Promise to block the python side on completion of each step,\n",
              "// then passes the result of the previous step as the input to the next step.\n",
              "function _uploadFilesContinue(outputId) {\n",
              "  const outputElement = document.getElementById(outputId);\n",
              "  const steps = outputElement.steps;\n",
              "\n",
              "  const next = steps.next(outputElement.lastPromiseValue);\n",
              "  return Promise.resolve(next.value.promise).then((value) => {\n",
              "    // Cache the last promise value to make it available to the next\n",
              "    // step of the generator.\n",
              "    outputElement.lastPromiseValue = value;\n",
              "    return next.value.response;\n",
              "  });\n",
              "}\n",
              "\n",
              "/**\n",
              " * Generator function which is called between each async step of the upload\n",
              " * process.\n",
              " * @param {string} inputId Element ID of the input file picker element.\n",
              " * @param {string} outputId Element ID of the output display.\n",
              " * @return {!Iterable<!Object>} Iterable of next steps.\n",
              " */\n",
              "function* uploadFilesStep(inputId, outputId) {\n",
              "  const inputElement = document.getElementById(inputId);\n",
              "  inputElement.disabled = false;\n",
              "\n",
              "  const outputElement = document.getElementById(outputId);\n",
              "  outputElement.innerHTML = '';\n",
              "\n",
              "  const pickedPromise = new Promise((resolve) => {\n",
              "    inputElement.addEventListener('change', (e) => {\n",
              "      resolve(e.target.files);\n",
              "    });\n",
              "  });\n",
              "\n",
              "  const cancel = document.createElement('button');\n",
              "  inputElement.parentElement.appendChild(cancel);\n",
              "  cancel.textContent = 'Cancel upload';\n",
              "  const cancelPromise = new Promise((resolve) => {\n",
              "    cancel.onclick = () => {\n",
              "      resolve(null);\n",
              "    };\n",
              "  });\n",
              "\n",
              "  // Wait for the user to pick the files.\n",
              "  const files = yield {\n",
              "    promise: Promise.race([pickedPromise, cancelPromise]),\n",
              "    response: {\n",
              "      action: 'starting',\n",
              "    }\n",
              "  };\n",
              "\n",
              "  cancel.remove();\n",
              "\n",
              "  // Disable the input element since further picks are not allowed.\n",
              "  inputElement.disabled = true;\n",
              "\n",
              "  if (!files) {\n",
              "    return {\n",
              "      response: {\n",
              "        action: 'complete',\n",
              "      }\n",
              "    };\n",
              "  }\n",
              "\n",
              "  for (const file of files) {\n",
              "    const li = document.createElement('li');\n",
              "    li.append(span(file.name, {fontWeight: 'bold'}));\n",
              "    li.append(span(\n",
              "        `(${file.type || 'n/a'}) - ${file.size} bytes, ` +\n",
              "        `last modified: ${\n",
              "            file.lastModifiedDate ? file.lastModifiedDate.toLocaleDateString() :\n",
              "                                    'n/a'} - `));\n",
              "    const percent = span('0% done');\n",
              "    li.appendChild(percent);\n",
              "\n",
              "    outputElement.appendChild(li);\n",
              "\n",
              "    const fileDataPromise = new Promise((resolve) => {\n",
              "      const reader = new FileReader();\n",
              "      reader.onload = (e) => {\n",
              "        resolve(e.target.result);\n",
              "      };\n",
              "      reader.readAsArrayBuffer(file);\n",
              "    });\n",
              "    // Wait for the data to be ready.\n",
              "    let fileData = yield {\n",
              "      promise: fileDataPromise,\n",
              "      response: {\n",
              "        action: 'continue',\n",
              "      }\n",
              "    };\n",
              "\n",
              "    // Use a chunked sending to avoid message size limits. See b/62115660.\n",
              "    let position = 0;\n",
              "    do {\n",
              "      const length = Math.min(fileData.byteLength - position, MAX_PAYLOAD_SIZE);\n",
              "      const chunk = new Uint8Array(fileData, position, length);\n",
              "      position += length;\n",
              "\n",
              "      const base64 = btoa(String.fromCharCode.apply(null, chunk));\n",
              "      yield {\n",
              "        response: {\n",
              "          action: 'append',\n",
              "          file: file.name,\n",
              "          data: base64,\n",
              "        },\n",
              "      };\n",
              "\n",
              "      let percentDone = fileData.byteLength === 0 ?\n",
              "          100 :\n",
              "          Math.round((position / fileData.byteLength) * 100);\n",
              "      percent.textContent = `${percentDone}% done`;\n",
              "\n",
              "    } while (position < fileData.byteLength);\n",
              "  }\n",
              "\n",
              "  // All done.\n",
              "  yield {\n",
              "    response: {\n",
              "      action: 'complete',\n",
              "    }\n",
              "  };\n",
              "}\n",
              "\n",
              "scope.google = scope.google || {};\n",
              "scope.google.colab = scope.google.colab || {};\n",
              "scope.google.colab._files = {\n",
              "  _uploadFiles,\n",
              "  _uploadFilesContinue,\n",
              "};\n",
              "})(self);\n",
              "</script> "
            ]
          },
          "metadata": {}
        },
        {
          "output_type": "stream",
          "name": "stdout",
          "text": [
            "Saving SEE 2025  - Result2-Prelim-Avaliação Curric_TUTOR.pdf to SEE 2025  - Result2-Prelim-Avaliação Curric_TUTOR.pdf\n"
          ]
        }
      ]
    },
    {
      "cell_type": "markdown",
      "source": [
        "#3.Ler o conteúdo do PDF"
      ],
      "metadata": {
        "id": "dfA5SOVPfkm_"
      }
    },
    {
      "cell_type": "code",
      "source": [
        "# Substitua pelo nome do seu arquivo\n",
        "pdf_path = list(uploaded.keys())[0]\n",
        "\n",
        "\n",
        "linhas = []\n",
        "\n",
        "with pdfplumber.open(pdf_path) as pdf:\n",
        "    for page in pdf.pages:\n",
        "        text = page.extract_text()\n",
        "        if text:\n",
        "            linhas.extend(text.split('\\n'))  # Quebra por linha"
      ],
      "metadata": {
        "id": "Lc36jqmMfwVD"
      },
      "execution_count": null,
      "outputs": []
    },
    {
      "cell_type": "markdown",
      "source": [
        "# 4. Criar DataFrame com Pandas\n"
      ],
      "metadata": {
        "id": "dQdystE6hN-c"
      }
    },
    {
      "cell_type": "code",
      "source": [
        "for linha in linhas[:10]:  # Primeiras 10 linhas\n",
        "   print(repr(linha))\n"
      ],
      "metadata": {
        "id": "K6cALNfD8qVR",
        "colab": {
          "base_uri": "https://localhost:8080/"
        },
        "outputId": "cc3c70e0-8d66-4c52-902f-72f62e121dea"
      },
      "execution_count": null,
      "outputs": [
        {
          "output_type": "stream",
          "name": "stdout",
          "text": [
            "'PROCESSO SELETIVO SIMPLIFICADO DA SECRETARIA DE EDUCAÇÃO'\n",
            "'DE PERNAMBUCO - 2025'\n",
            "'RESULTADO PRELIMINAR'\n",
            "'TUTOR DA EDUCAÇÃO PROFISSIONAL EAD/POLO'\n",
            "'O Instituto de Apoio à Fundação Universidade de Pernambuco - IAUPE'\n",
            "'Concursos, e a Secretaria de Educação de Pernambuco divulgam o resultado'\n",
            "'preliminar da avaliação da experiência profissional e de títulos.'\n",
            "'Recife, 27 de Junho de 2025.'\n",
            "'sexta-feira, 27 de junho de 2025 Página 1 de 398'\n",
            "'PROCESSO SELETIVO SIMPLIFICADO DA SECRETARIA DE EDUCAÇÃO DE'\n"
          ]
        }
      ]
    },
    {
      "cell_type": "code",
      "source": [
        "for i, linha in enumerate(linhas[:10]):\n",
        "    print(f\"{i}: {repr(linha)}\")\n"
      ],
      "metadata": {
        "colab": {
          "base_uri": "https://localhost:8080/"
        },
        "id": "804_d7leF5Js",
        "outputId": "ca32901d-7619-4faa-8c6e-850bdb3769ec"
      },
      "execution_count": null,
      "outputs": [
        {
          "output_type": "stream",
          "name": "stdout",
          "text": [
            "0: 'PROCESSO SELETIVO SIMPLIFICADO DA SECRETARIA DE EDUCAÇÃO'\n",
            "1: 'DE PERNAMBUCO - 2025'\n",
            "2: 'RESULTADO PRELIMINAR'\n",
            "3: 'TUTOR DA EDUCAÇÃO PROFISSIONAL EAD/POLO'\n",
            "4: 'O Instituto de Apoio à Fundação Universidade de Pernambuco - IAUPE'\n",
            "5: 'Concursos, e a Secretaria de Educação de Pernambuco divulgam o resultado'\n",
            "6: 'preliminar da avaliação da experiência profissional e de títulos.'\n",
            "7: 'Recife, 27 de Junho de 2025.'\n",
            "8: 'sexta-feira, 27 de junho de 2025 Página 1 de 398'\n",
            "9: 'PROCESSO SELETIVO SIMPLIFICADO DA SECRETARIA DE EDUCAÇÃO DE'\n"
          ]
        }
      ]
    },
    {
      "cell_type": "code",
      "source": [
        "import pdfplumber\n",
        "\n",
        "linhas = []\n",
        "\n",
        "with pdfplumber.open(pdf_path) as pdf:\n",
        "    for i, page in enumerate(pdf.pages):\n",
        "        text = page.extract_text()\n",
        "        print(f\"\\n--- Página {i+1} ---\\n\")\n",
        "        print(text[:1000])  # imprime os primeiros 1000 caracteres\n",
        "        if text:\n",
        "            linhas.extend(text.split('\\n'))\n",
        "        if i >= 2:  # limite para testar só as primeiras 3 páginas\n",
        "            break\n"
      ],
      "metadata": {
        "colab": {
          "base_uri": "https://localhost:8080/"
        },
        "id": "W8W9wqXIGUVm",
        "outputId": "a88dbb22-7b88-4ba0-e855-9d8f6480717b"
      },
      "execution_count": null,
      "outputs": [
        {
          "output_type": "stream",
          "name": "stdout",
          "text": [
            "\n",
            "--- Página 1 ---\n",
            "\n",
            "PROCESSO SELETIVO SIMPLIFICADO DA SECRETARIA DE EDUCAÇÃO\n",
            "DE PERNAMBUCO - 2025\n",
            "RESULTADO PRELIMINAR\n",
            "TUTOR DA EDUCAÇÃO PROFISSIONAL EAD/POLO\n",
            "O Instituto de Apoio à Fundação Universidade de Pernambuco - IAUPE\n",
            "Concursos, e a Secretaria de Educação de Pernambuco divulgam o resultado\n",
            "preliminar da avaliação da experiência profissional e de títulos.\n",
            "Recife, 27 de Junho de 2025.\n",
            "sexta-feira, 27 de junho de 2025 Página 1 de 398\n",
            "\n",
            "--- Página 2 ---\n",
            "\n",
            "PROCESSO SELETIVO SIMPLIFICADO DA SECRETARIA DE EDUCAÇÃO DE\n",
            "PERNAMBUCO - 2025\n",
            "TUTOR DA EDUCAÇÃO PROFISSIONAL EAD/POLO\n",
            "ATENÇÃO\n",
            "Os recursos administrativos referente as notas obtidas na avaliação\n",
            "de experiência profissional e de título, devem ser encaminhados\n",
            "para o email:\n",
            "selecaosee2025@iaupe.com.br\n",
            "No período compreendido entre o dia 28 à 30 de junho de 2025 de\n",
            "acordo com a errata Nº002 (Anexo VI - Cronograma), devendo ser\n",
            "informado o número de inscrição, nome do candidato e as razões do\n",
            "recurso.\n",
            "sexta-feira, 27 de junho de 2025 Página 2 de 398\n",
            "\n",
            "--- Página 3 ---\n",
            "\n",
            "PROCESSO SELETIVO SIMPLIFICADO DA SECRETARIA DE\n",
            "EDUCAÇÃO DE PERNAMBUCO - 2025\n",
            "RESULTADO PRELIMINAR\n",
            "Experiênc Ensino Curso Técnico Nível SOMA DA\n",
            "INSCRIÇÃO NOME DO CANDIDATO PCD Profissional Médio Medio Completo PONTUAÇÃO\n",
            "Completo\n",
            "116839 AANTONIO EDSON DE LIMA 0,0 20,0 0,0 20,0\n",
            "111481 ABIGAIL JAYNNARA GOMES DA SILVA ALMEIDA 0,0 20,0 0,0 20,0\n",
            "109705 ABIMAEL DE ALMEIDA SIMPLICIO 0,0 20,0 20,0 40,0\n",
            "102654 ABRAÃO SOUZA DA SILVA 20,0 20,0 0,0 40,0\n",
            "110101 ABSON TOME DE SOUZA 30,0 20,0 0,0 50,0\n",
            "118205 ACÁCIA MESQUITA DE FRANÇA OLIVEIRA 60,0 20,0 20,0 100,0\n",
            "105349 ADACI PEREIRA ALVES 60,0 20,0 0,0 80,0\n",
            "103874 ADACLEIA NUNES DA SILVA 0,0 20,0 0,0 20,0\n",
            "109703 ADAILDESPEREIRA D SA 60,0 0,0 0,0 60,0\n",
            "113104 ADAILSON RICARTE GOMES 20,0 20,0 0,0 40,0\n",
            "100120 ADAILTON DA SILVA LEANDRO 50,0 20,0 0,0 70,0\n",
            "116390 ADALBERTO CORDEIRO DANTAS FILHO 0,0 20,0 20,0 40,0\n",
            "109345 ADALBERTO JUNIOR LIMEIRA DE BRITO 0,0 20,0 0,0 20,0\n",
            "113639 ADALGISA AGUIAR DA SILVA NETA 0,0 20,0 0,0 20,0\n",
            "111285 ADALICE PEREIRA DE BARROS\n"
          ]
        }
      ]
    },
    {
      "cell_type": "markdown",
      "source": [
        "# 5. Converter para DataFrame"
      ],
      "metadata": {
        "id": "f9EqK8am8_xd"
      }
    },
    {
      "cell_type": "code",
      "source": [
        "import re\n",
        "import pandas as pd\n",
        "\n",
        "dados = []\n",
        "\n",
        "for linha in linhas:\n",
        "    match = re.match(r'^(\\d{6})\\s+(.*)', linha)\n",
        "    if not match:\n",
        "        continue\n",
        "\n",
        "    inscricao = match.group(1)\n",
        "    restante = match.group(2)\n",
        "\n",
        "    # Tenta capturar os 4 últimos números com vírgula no final da linha\n",
        "    pontuacao_match = re.search(r'(\\d+,\\d+)\\s+(\\d+,\\d+)\\s+(\\d+,\\d+)\\s+(\\d+,\\d+)$', restante)\n",
        "    if not pontuacao_match:\n",
        "        continue\n",
        "\n",
        "    exp_prof = pontuacao_match.group(1)\n",
        "    ens_medio = pontuacao_match.group(2)\n",
        "    curso_tec = pontuacao_match.group(3)\n",
        "    soma = pontuacao_match.group(4)\n",
        "\n",
        "    nome_pcd = restante[:pontuacao_match.start()].strip()\n",
        "\n",
        "    if nome_pcd.endswith(\"PCD\"):\n",
        "        nome = nome_pcd.rsplit(\"PCD\", 1)[0].strip()\n",
        "        pcd = \"PCD\"\n",
        "    else:\n",
        "        nome = nome_pcd\n",
        "        pcd = \"\"\n",
        "\n",
        "    dados.append([inscricao, nome, pcd, exp_prof, ens_medio, curso_tec, soma])\n",
        "\n",
        "# Criar DataFrame\n",
        "df = pd.DataFrame(dados, columns=[\n",
        "    \"INSCRIÇÃO\", \"NOME DO CANDIDATO\", \"PCD\",\n",
        "    \"Experiência Profissional\", \"Ensino Médio Completo\",\n",
        "    \"Curso Técnico Nível Médio Completo\", \"SOMA DA PONTUAÇÃO\"\n",
        "])\n",
        "\n",
        "print(\"Total de registros extraídos:\", len(df))\n",
        "df.head()\n"
      ],
      "metadata": {
        "colab": {
          "base_uri": "https://localhost:8080/",
          "height": 276
        },
        "id": "j_oz_iwldVVS",
        "outputId": "39e76e73-7c2c-4bd5-f647-1debb44c5796"
      },
      "execution_count": null,
      "outputs": [
        {
          "output_type": "stream",
          "name": "stdout",
          "text": [
            "Total de registros extraídos: 17\n"
          ]
        },
        {
          "output_type": "execute_result",
          "data": {
            "text/plain": [
              "  INSCRIÇÃO                        NOME DO CANDIDATO PCD  \\\n",
              "0    116839                   AANTONIO EDSON DE LIMA       \n",
              "1    111481  ABIGAIL JAYNNARA GOMES DA SILVA ALMEIDA       \n",
              "2    109705             ABIMAEL DE ALMEIDA SIMPLICIO       \n",
              "3    102654                    ABRAÃO SOUZA DA SILVA       \n",
              "4    110101                      ABSON TOME DE SOUZA       \n",
              "\n",
              "  Experiência Profissional Ensino Médio Completo  \\\n",
              "0                      0,0                  20,0   \n",
              "1                      0,0                  20,0   \n",
              "2                      0,0                  20,0   \n",
              "3                     20,0                  20,0   \n",
              "4                     30,0                  20,0   \n",
              "\n",
              "  Curso Técnico Nível Médio Completo SOMA DA PONTUAÇÃO  \n",
              "0                                0,0              20,0  \n",
              "1                                0,0              20,0  \n",
              "2                               20,0              40,0  \n",
              "3                                0,0              40,0  \n",
              "4                                0,0              50,0  "
            ],
            "text/html": [
              "\n",
              "  <div id=\"df-0e52216c-4945-4eb4-a437-adcd8dd75940\" class=\"colab-df-container\">\n",
              "    <div>\n",
              "<style scoped>\n",
              "    .dataframe tbody tr th:only-of-type {\n",
              "        vertical-align: middle;\n",
              "    }\n",
              "\n",
              "    .dataframe tbody tr th {\n",
              "        vertical-align: top;\n",
              "    }\n",
              "\n",
              "    .dataframe thead th {\n",
              "        text-align: right;\n",
              "    }\n",
              "</style>\n",
              "<table border=\"1\" class=\"dataframe\">\n",
              "  <thead>\n",
              "    <tr style=\"text-align: right;\">\n",
              "      <th></th>\n",
              "      <th>INSCRIÇÃO</th>\n",
              "      <th>NOME DO CANDIDATO</th>\n",
              "      <th>PCD</th>\n",
              "      <th>Experiência Profissional</th>\n",
              "      <th>Ensino Médio Completo</th>\n",
              "      <th>Curso Técnico Nível Médio Completo</th>\n",
              "      <th>SOMA DA PONTUAÇÃO</th>\n",
              "    </tr>\n",
              "  </thead>\n",
              "  <tbody>\n",
              "    <tr>\n",
              "      <th>0</th>\n",
              "      <td>116839</td>\n",
              "      <td>AANTONIO EDSON DE LIMA</td>\n",
              "      <td></td>\n",
              "      <td>0,0</td>\n",
              "      <td>20,0</td>\n",
              "      <td>0,0</td>\n",
              "      <td>20,0</td>\n",
              "    </tr>\n",
              "    <tr>\n",
              "      <th>1</th>\n",
              "      <td>111481</td>\n",
              "      <td>ABIGAIL JAYNNARA GOMES DA SILVA ALMEIDA</td>\n",
              "      <td></td>\n",
              "      <td>0,0</td>\n",
              "      <td>20,0</td>\n",
              "      <td>0,0</td>\n",
              "      <td>20,0</td>\n",
              "    </tr>\n",
              "    <tr>\n",
              "      <th>2</th>\n",
              "      <td>109705</td>\n",
              "      <td>ABIMAEL DE ALMEIDA SIMPLICIO</td>\n",
              "      <td></td>\n",
              "      <td>0,0</td>\n",
              "      <td>20,0</td>\n",
              "      <td>20,0</td>\n",
              "      <td>40,0</td>\n",
              "    </tr>\n",
              "    <tr>\n",
              "      <th>3</th>\n",
              "      <td>102654</td>\n",
              "      <td>ABRAÃO SOUZA DA SILVA</td>\n",
              "      <td></td>\n",
              "      <td>20,0</td>\n",
              "      <td>20,0</td>\n",
              "      <td>0,0</td>\n",
              "      <td>40,0</td>\n",
              "    </tr>\n",
              "    <tr>\n",
              "      <th>4</th>\n",
              "      <td>110101</td>\n",
              "      <td>ABSON TOME DE SOUZA</td>\n",
              "      <td></td>\n",
              "      <td>30,0</td>\n",
              "      <td>20,0</td>\n",
              "      <td>0,0</td>\n",
              "      <td>50,0</td>\n",
              "    </tr>\n",
              "  </tbody>\n",
              "</table>\n",
              "</div>\n",
              "    <div class=\"colab-df-buttons\">\n",
              "\n",
              "  <div class=\"colab-df-container\">\n",
              "    <button class=\"colab-df-convert\" onclick=\"convertToInteractive('df-0e52216c-4945-4eb4-a437-adcd8dd75940')\"\n",
              "            title=\"Convert this dataframe to an interactive table.\"\n",
              "            style=\"display:none;\">\n",
              "\n",
              "  <svg xmlns=\"http://www.w3.org/2000/svg\" height=\"24px\" viewBox=\"0 -960 960 960\">\n",
              "    <path d=\"M120-120v-720h720v720H120Zm60-500h600v-160H180v160Zm220 220h160v-160H400v160Zm0 220h160v-160H400v160ZM180-400h160v-160H180v160Zm440 0h160v-160H620v160ZM180-180h160v-160H180v160Zm440 0h160v-160H620v160Z\"/>\n",
              "  </svg>\n",
              "    </button>\n",
              "\n",
              "  <style>\n",
              "    .colab-df-container {\n",
              "      display:flex;\n",
              "      gap: 12px;\n",
              "    }\n",
              "\n",
              "    .colab-df-convert {\n",
              "      background-color: #E8F0FE;\n",
              "      border: none;\n",
              "      border-radius: 50%;\n",
              "      cursor: pointer;\n",
              "      display: none;\n",
              "      fill: #1967D2;\n",
              "      height: 32px;\n",
              "      padding: 0 0 0 0;\n",
              "      width: 32px;\n",
              "    }\n",
              "\n",
              "    .colab-df-convert:hover {\n",
              "      background-color: #E2EBFA;\n",
              "      box-shadow: 0px 1px 2px rgba(60, 64, 67, 0.3), 0px 1px 3px 1px rgba(60, 64, 67, 0.15);\n",
              "      fill: #174EA6;\n",
              "    }\n",
              "\n",
              "    .colab-df-buttons div {\n",
              "      margin-bottom: 4px;\n",
              "    }\n",
              "\n",
              "    [theme=dark] .colab-df-convert {\n",
              "      background-color: #3B4455;\n",
              "      fill: #D2E3FC;\n",
              "    }\n",
              "\n",
              "    [theme=dark] .colab-df-convert:hover {\n",
              "      background-color: #434B5C;\n",
              "      box-shadow: 0px 1px 3px 1px rgba(0, 0, 0, 0.15);\n",
              "      filter: drop-shadow(0px 1px 2px rgba(0, 0, 0, 0.3));\n",
              "      fill: #FFFFFF;\n",
              "    }\n",
              "  </style>\n",
              "\n",
              "    <script>\n",
              "      const buttonEl =\n",
              "        document.querySelector('#df-0e52216c-4945-4eb4-a437-adcd8dd75940 button.colab-df-convert');\n",
              "      buttonEl.style.display =\n",
              "        google.colab.kernel.accessAllowed ? 'block' : 'none';\n",
              "\n",
              "      async function convertToInteractive(key) {\n",
              "        const element = document.querySelector('#df-0e52216c-4945-4eb4-a437-adcd8dd75940');\n",
              "        const dataTable =\n",
              "          await google.colab.kernel.invokeFunction('convertToInteractive',\n",
              "                                                    [key], {});\n",
              "        if (!dataTable) return;\n",
              "\n",
              "        const docLinkHtml = 'Like what you see? Visit the ' +\n",
              "          '<a target=\"_blank\" href=https://colab.research.google.com/notebooks/data_table.ipynb>data table notebook</a>'\n",
              "          + ' to learn more about interactive tables.';\n",
              "        element.innerHTML = '';\n",
              "        dataTable['output_type'] = 'display_data';\n",
              "        await google.colab.output.renderOutput(dataTable, element);\n",
              "        const docLink = document.createElement('div');\n",
              "        docLink.innerHTML = docLinkHtml;\n",
              "        element.appendChild(docLink);\n",
              "      }\n",
              "    </script>\n",
              "  </div>\n",
              "\n",
              "\n",
              "    <div id=\"df-2153995d-ab4d-4857-966f-bec88e429203\">\n",
              "      <button class=\"colab-df-quickchart\" onclick=\"quickchart('df-2153995d-ab4d-4857-966f-bec88e429203')\"\n",
              "                title=\"Suggest charts\"\n",
              "                style=\"display:none;\">\n",
              "\n",
              "<svg xmlns=\"http://www.w3.org/2000/svg\" height=\"24px\"viewBox=\"0 0 24 24\"\n",
              "     width=\"24px\">\n",
              "    <g>\n",
              "        <path d=\"M19 3H5c-1.1 0-2 .9-2 2v14c0 1.1.9 2 2 2h14c1.1 0 2-.9 2-2V5c0-1.1-.9-2-2-2zM9 17H7v-7h2v7zm4 0h-2V7h2v10zm4 0h-2v-4h2v4z\"/>\n",
              "    </g>\n",
              "</svg>\n",
              "      </button>\n",
              "\n",
              "<style>\n",
              "  .colab-df-quickchart {\n",
              "      --bg-color: #E8F0FE;\n",
              "      --fill-color: #1967D2;\n",
              "      --hover-bg-color: #E2EBFA;\n",
              "      --hover-fill-color: #174EA6;\n",
              "      --disabled-fill-color: #AAA;\n",
              "      --disabled-bg-color: #DDD;\n",
              "  }\n",
              "\n",
              "  [theme=dark] .colab-df-quickchart {\n",
              "      --bg-color: #3B4455;\n",
              "      --fill-color: #D2E3FC;\n",
              "      --hover-bg-color: #434B5C;\n",
              "      --hover-fill-color: #FFFFFF;\n",
              "      --disabled-bg-color: #3B4455;\n",
              "      --disabled-fill-color: #666;\n",
              "  }\n",
              "\n",
              "  .colab-df-quickchart {\n",
              "    background-color: var(--bg-color);\n",
              "    border: none;\n",
              "    border-radius: 50%;\n",
              "    cursor: pointer;\n",
              "    display: none;\n",
              "    fill: var(--fill-color);\n",
              "    height: 32px;\n",
              "    padding: 0;\n",
              "    width: 32px;\n",
              "  }\n",
              "\n",
              "  .colab-df-quickchart:hover {\n",
              "    background-color: var(--hover-bg-color);\n",
              "    box-shadow: 0 1px 2px rgba(60, 64, 67, 0.3), 0 1px 3px 1px rgba(60, 64, 67, 0.15);\n",
              "    fill: var(--button-hover-fill-color);\n",
              "  }\n",
              "\n",
              "  .colab-df-quickchart-complete:disabled,\n",
              "  .colab-df-quickchart-complete:disabled:hover {\n",
              "    background-color: var(--disabled-bg-color);\n",
              "    fill: var(--disabled-fill-color);\n",
              "    box-shadow: none;\n",
              "  }\n",
              "\n",
              "  .colab-df-spinner {\n",
              "    border: 2px solid var(--fill-color);\n",
              "    border-color: transparent;\n",
              "    border-bottom-color: var(--fill-color);\n",
              "    animation:\n",
              "      spin 1s steps(1) infinite;\n",
              "  }\n",
              "\n",
              "  @keyframes spin {\n",
              "    0% {\n",
              "      border-color: transparent;\n",
              "      border-bottom-color: var(--fill-color);\n",
              "      border-left-color: var(--fill-color);\n",
              "    }\n",
              "    20% {\n",
              "      border-color: transparent;\n",
              "      border-left-color: var(--fill-color);\n",
              "      border-top-color: var(--fill-color);\n",
              "    }\n",
              "    30% {\n",
              "      border-color: transparent;\n",
              "      border-left-color: var(--fill-color);\n",
              "      border-top-color: var(--fill-color);\n",
              "      border-right-color: var(--fill-color);\n",
              "    }\n",
              "    40% {\n",
              "      border-color: transparent;\n",
              "      border-right-color: var(--fill-color);\n",
              "      border-top-color: var(--fill-color);\n",
              "    }\n",
              "    60% {\n",
              "      border-color: transparent;\n",
              "      border-right-color: var(--fill-color);\n",
              "    }\n",
              "    80% {\n",
              "      border-color: transparent;\n",
              "      border-right-color: var(--fill-color);\n",
              "      border-bottom-color: var(--fill-color);\n",
              "    }\n",
              "    90% {\n",
              "      border-color: transparent;\n",
              "      border-bottom-color: var(--fill-color);\n",
              "    }\n",
              "  }\n",
              "</style>\n",
              "\n",
              "      <script>\n",
              "        async function quickchart(key) {\n",
              "          const quickchartButtonEl =\n",
              "            document.querySelector('#' + key + ' button');\n",
              "          quickchartButtonEl.disabled = true;  // To prevent multiple clicks.\n",
              "          quickchartButtonEl.classList.add('colab-df-spinner');\n",
              "          try {\n",
              "            const charts = await google.colab.kernel.invokeFunction(\n",
              "                'suggestCharts', [key], {});\n",
              "          } catch (error) {\n",
              "            console.error('Error during call to suggestCharts:', error);\n",
              "          }\n",
              "          quickchartButtonEl.classList.remove('colab-df-spinner');\n",
              "          quickchartButtonEl.classList.add('colab-df-quickchart-complete');\n",
              "        }\n",
              "        (() => {\n",
              "          let quickchartButtonEl =\n",
              "            document.querySelector('#df-2153995d-ab4d-4857-966f-bec88e429203 button');\n",
              "          quickchartButtonEl.style.display =\n",
              "            google.colab.kernel.accessAllowed ? 'block' : 'none';\n",
              "        })();\n",
              "      </script>\n",
              "    </div>\n",
              "\n",
              "    </div>\n",
              "  </div>\n"
            ],
            "application/vnd.google.colaboratory.intrinsic+json": {
              "type": "dataframe",
              "variable_name": "df",
              "summary": "{\n  \"name\": \"df\",\n  \"rows\": 17,\n  \"fields\": [\n    {\n      \"column\": \"INSCRI\\u00c7\\u00c3O\",\n      \"properties\": {\n        \"dtype\": \"string\",\n        \"num_unique_values\": 17,\n        \"samples\": [\n          \"116839\",\n          \"111481\",\n          \"118205\"\n        ],\n        \"semantic_type\": \"\",\n        \"description\": \"\"\n      }\n    },\n    {\n      \"column\": \"NOME DO CANDIDATO\",\n      \"properties\": {\n        \"dtype\": \"string\",\n        \"num_unique_values\": 17,\n        \"samples\": [\n          \"AANTONIO EDSON DE LIMA\",\n          \"ABIGAIL JAYNNARA GOMES DA SILVA ALMEIDA\",\n          \"AC\\u00c1CIA MESQUITA DE FRAN\\u00c7A OLIVEIRA\"\n        ],\n        \"semantic_type\": \"\",\n        \"description\": \"\"\n      }\n    },\n    {\n      \"column\": \"PCD\",\n      \"properties\": {\n        \"dtype\": \"object\",\n        \"num_unique_values\": 1,\n        \"samples\": [\n          \"\"\n        ],\n        \"semantic_type\": \"\",\n        \"description\": \"\"\n      }\n    },\n    {\n      \"column\": \"Experi\\u00eancia Profissional\",\n      \"properties\": {\n        \"dtype\": \"category\",\n        \"num_unique_values\": 5,\n        \"samples\": [\n          \"20,0\"\n        ],\n        \"semantic_type\": \"\",\n        \"description\": \"\"\n      }\n    },\n    {\n      \"column\": \"Ensino M\\u00e9dio Completo\",\n      \"properties\": {\n        \"dtype\": \"category\",\n        \"num_unique_values\": 2,\n        \"samples\": [\n          \"0,0\"\n        ],\n        \"semantic_type\": \"\",\n        \"description\": \"\"\n      }\n    },\n    {\n      \"column\": \"Curso T\\u00e9cnico N\\u00edvel M\\u00e9dio Completo\",\n      \"properties\": {\n        \"dtype\": \"category\",\n        \"num_unique_values\": 2,\n        \"samples\": [\n          \"20,0\"\n        ],\n        \"semantic_type\": \"\",\n        \"description\": \"\"\n      }\n    },\n    {\n      \"column\": \"SOMA DA PONTUA\\u00c7\\u00c3O\",\n      \"properties\": {\n        \"dtype\": \"category\",\n        \"num_unique_values\": 7,\n        \"samples\": [\n          \"20,0\"\n        ],\n        \"semantic_type\": \"\",\n        \"description\": \"\"\n      }\n    }\n  ]\n}"
            }
          },
          "metadata": {},
          "execution_count": 17
        }
      ]
    },
    {
      "cell_type": "markdown",
      "source": [
        "# Perguntas:\n"
      ],
      "metadata": {
        "id": "45cbms2-P1y0"
      }
    },
    {
      "cell_type": "markdown",
      "source": [
        "## Qual o total de Inscritos com <40:"
      ],
      "metadata": {
        "id": "7wdOfGCBRwde"
      }
    },
    {
      "cell_type": "code",
      "source": [
        "import pdfplumber\n",
        "import pandas as pd\n",
        "\n",
        "pdf_path = \"SEE 2025  - Result2-Prelim-Avaliação Curric_TUTOR.pdf\"\n",
        "\n",
        "linhas = []\n",
        "\n",
        "with pdfplumber.open(pdf_path) as pdf:\n",
        "    for i, page in enumerate(pdf.pages):\n",
        "        if i < 2:  # pula páginas 0 e 1\n",
        "            continue\n",
        "        text = page.extract_text()\n",
        "        if text:\n",
        "            linhas.extend(text.split('\\n'))\n",
        "\n",
        "# Extração estruturada\n",
        "import re\n",
        "\n",
        "dados = []\n",
        "\n",
        "for linha in linhas:\n",
        "    match = re.match(r'^(\\d{6})\\s+(.*)', linha)\n",
        "    if match:\n",
        "        partes = linha.split()\n",
        "        inscricao = partes[0]\n",
        "        # Extrai as últimas 4 colunas como notas\n",
        "        notas = partes[-4:]\n",
        "        try:\n",
        "            notas_float = [float(n.replace(\",\", \".\")) for n in notas]\n",
        "        except:\n",
        "            continue  # pula se der erro\n",
        "        nome = ' '.join(partes[1:-4])\n",
        "        dados.append([inscricao, nome] + notas_float)\n",
        "\n",
        "# Criar DataFrame\n",
        "df = pd.DataFrame(dados, columns=[\"INSCRIÇÃO\", \"NOME\", \"Experiência Profissional\",\n",
        "                                  \"Ensino Médio Completo\", \"Curso Técnico Nível Médio Completo\",\n",
        "                                  \"SOMA DA PONTUAÇÃO\"])\n",
        "\n",
        "# Contar inscritos com nota < 40\n",
        "total_menor_que_40 = df[df[\"SOMA DA PONTUAÇÃO\"] < 40].shape[0]\n",
        "print(\"Total de inscritos com nota < 40:\", total_menor_que_40)\n",
        "\n",
        "total_40 = df[df[\"SOMA DA PONTUAÇÃO\"] == 40].shape[0]\n",
        "print(\"Total de inscritos com nota = 40:\", total_40)\n",
        "\n",
        "total_60 = df[df[\"SOMA DA PONTUAÇÃO\"] == 60].shape[0]\n",
        "print(\"Total de inscritos com nota = 60:\", total_60)\n",
        "\n",
        "total_80 = df[df[\"SOMA DA PONTUAÇÃO\"] == 80].shape[0]\n",
        "print(\"Total de inscritos com nota = 80:\", total_80)\n",
        "\n",
        "total_100 = df[df[\"SOMA DA PONTUAÇÃO\"] == 100].shape[0]\n",
        "print(\"Total de inscritos com nota = 100:\", total_40)\n",
        "\n"
      ],
      "metadata": {
        "colab": {
          "base_uri": "https://localhost:8080/"
        },
        "id": "PpfaagnIQFdq",
        "outputId": "7a256910-9689-4f76-ecc0-6760db79ab24"
      },
      "execution_count": null,
      "outputs": [
        {
          "output_type": "stream",
          "name": "stdout",
          "text": [
            "Total de inscritos com nota < 40: 3217\n",
            "Total de inscritos com nota = 40: 1186\n",
            "Total de inscritos com nota = 60: 305\n",
            "Total de inscritos com nota = 80: 1123\n",
            "Total de inscritos com nota = 100: 1186\n"
          ]
        }
      ]
    },
    {
      "cell_type": "markdown",
      "source": [
        "## Total de Inscritos para Tutor:"
      ],
      "metadata": {
        "id": "jm1Y1KvrSAgQ"
      }
    },
    {
      "cell_type": "markdown",
      "source": [
        "## Total de inscritos para Tutor:\n"
      ],
      "metadata": {
        "id": "gkTadUZsSQVt"
      }
    },
    {
      "cell_type": "code",
      "source": [
        "total_inscritos = df.shape[0]\n",
        "print(\"Total de inscritos:\", total_inscritos)\n"
      ],
      "metadata": {
        "colab": {
          "base_uri": "https://localhost:8080/"
        },
        "id": "xZS68OYDkZcN",
        "outputId": "98011337-770c-4592-f6ae-98118a07acbc"
      },
      "execution_count": null,
      "outputs": [
        {
          "output_type": "stream",
          "name": "stdout",
          "text": [
            "Total de inscritos: 6728\n"
          ]
        }
      ]
    },
    {
      "cell_type": "markdown",
      "source": [
        "## Percentual por soma da pontuação:"
      ],
      "metadata": {
        "id": "wF-3hTQmSdI-"
      }
    },
    {
      "cell_type": "code",
      "source": [
        "# Agrupar por nota final e contar quantos tiraram cada uma\n",
        "contagem = df['SOMA DA PONTUAÇÃO'].value_counts().sort_index()\n",
        "\n",
        "# Calcular o percentual\n",
        "percentual = (contagem / df.shape[0]) * 100\n",
        "\n",
        "# Juntar os dois em um DataFrame\n",
        "resumo = pd.DataFrame({\n",
        "    'Quantidade': contagem,\n",
        "    'Percentual (%)': percentual.round(2)\n",
        "})\n",
        "\n",
        "print(resumo)\n"
      ],
      "metadata": {
        "colab": {
          "base_uri": "https://localhost:8080/"
        },
        "id": "IyEr4mdnk6WJ",
        "outputId": "a1dfb54b-4587-448d-f148-0ac52c708385"
      },
      "execution_count": null,
      "outputs": [
        {
          "output_type": "stream",
          "name": "stdout",
          "text": [
            "                   Quantidade  Percentual (%)\n",
            "SOMA DA PONTUAÇÃO                            \n",
            "0.0                       279            4.15\n",
            "10.0                       12            0.18\n",
            "20.0                     2545           37.83\n",
            "30.0                      381            5.66\n",
            "40.0                     1186           17.63\n",
            "50.0                      345            5.13\n",
            "60.0                      305            4.53\n",
            "70.0                      229            3.40\n",
            "80.0                     1123           16.69\n",
            "90.0                       48            0.71\n",
            "100.0                     275            4.09\n"
          ]
        }
      ]
    }
  ]
}